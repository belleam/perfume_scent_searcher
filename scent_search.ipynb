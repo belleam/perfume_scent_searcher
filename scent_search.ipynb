{
 "cells": [
  {
   "cell_type": "markdown",
   "metadata": {},
   "source": [
    "## Perfume Scent Searcher Model\n",
    "\n",
    "This project aims to create search functions that allow users to find perfumes that match their desired scents.\n",
    "\n",
    "The functions created:\n",
    "* TF-IDF-based search function\n",
    "* USE-based search function\n",
    "\n",
    "Please note this is an extension to a [fragrance recommendation system project](https://github.com/belleam/perfume). Full details of data cleaning can be found in [this notebook](https://github.com/belleam/perfume/blob/main/perfume.ipynb).\n",
    "\n",
    "The dataset is from [Kaggle](https://www.kaggle.com/datasets/nandini1999/perfume-recommendation-dataset) and was scraped from the fragrance retailer Luckyscent's e-commerce website."
   ]
  },
  {
   "cell_type": "code",
   "execution_count": 1,
   "metadata": {},
   "outputs": [],
   "source": [
    "## Initalising libraries\n",
    "import pandas as pd\n",
    "import numpy as np\n",
    "import matplotlib.pyplot as plt\n",
    "import seaborn as sns\n",
    "import plotly.express as px\n",
    "import plotly.graph_objects as go\n",
    "from sklearn.metrics.pairwise import linear_kernel\n",
    "from sklearn.metrics.pairwise import cosine_similarity\n",
    "import re\n",
    "from nltk.corpus import stopwords\n",
    "from sklearn.feature_extraction.text import TfidfVectorizer\n",
    "import tensorflow as tf\n",
    "import tensorflow_hub as hub"
   ]
  },
  {
   "cell_type": "markdown",
   "metadata": {},
   "source": [
    "### The data"
   ]
  },
  {
   "cell_type": "code",
   "execution_count": 2,
   "metadata": {},
   "outputs": [
    {
     "data": {
      "text/html": [
       "<div>\n",
       "<style scoped>\n",
       "    .dataframe tbody tr th:only-of-type {\n",
       "        vertical-align: middle;\n",
       "    }\n",
       "\n",
       "    .dataframe tbody tr th {\n",
       "        vertical-align: top;\n",
       "    }\n",
       "\n",
       "    .dataframe thead th {\n",
       "        text-align: right;\n",
       "    }\n",
       "</style>\n",
       "<table border=\"1\" class=\"dataframe\">\n",
       "  <thead>\n",
       "    <tr style=\"text-align: right;\">\n",
       "      <th></th>\n",
       "      <th>Name</th>\n",
       "      <th>Brand</th>\n",
       "      <th>Description</th>\n",
       "      <th>Notes</th>\n",
       "      <th>Image URL</th>\n",
       "      <th>Description_clean</th>\n",
       "      <th>Notes_clean</th>\n",
       "    </tr>\n",
       "  </thead>\n",
       "  <tbody>\n",
       "    <tr>\n",
       "      <th>0</th>\n",
       "      <td>Tihota Eau de Parfum</td>\n",
       "      <td>Indult</td>\n",
       "      <td>Rapa Nui for sugar, Tihota is, quite simply, T...</td>\n",
       "      <td>vanilla bean, musk</td>\n",
       "      <td>https://static.luckyscent.com/images/products/...</td>\n",
       "      <td>rapa nui sugar tihota quite simply one one cal...</td>\n",
       "      <td>vanilla bean, musk</td>\n",
       "    </tr>\n",
       "    <tr>\n",
       "      <th>1</th>\n",
       "      <td>Sola Parfum</td>\n",
       "      <td>Di Ser</td>\n",
       "      <td>A tribute to the expanse of space extending fr...</td>\n",
       "      <td>lavender, yuzu, lemongrass, magnolia, geranium...</td>\n",
       "      <td>https://static.luckyscent.com/images/products/...</td>\n",
       "      <td>tribute expanse space extending sky flower fru...</td>\n",
       "      <td>lavender, yuzu, lemongrass, magnolia, geranium...</td>\n",
       "    </tr>\n",
       "    <tr>\n",
       "      <th>2</th>\n",
       "      <td>Kagiroi Parfum</td>\n",
       "      <td>Di Ser</td>\n",
       "      <td>An aromatic ode to the ancient beauty of Japan...</td>\n",
       "      <td>green yuzu, green shikuwasa, sansho seed, cori...</td>\n",
       "      <td>https://static.luckyscent.com/images/products/...</td>\n",
       "      <td>aromatic ode ancient beauty japan kagiroi repr...</td>\n",
       "      <td>green yuzu, green shikuwasa, sansho seed, cori...</td>\n",
       "    </tr>\n",
       "    <tr>\n",
       "      <th>3</th>\n",
       "      <td>Velvet Fantasy Eau de Parfum</td>\n",
       "      <td>Montale</td>\n",
       "      <td>Velvet Fantasy is a solar fragrance where citr...</td>\n",
       "      <td>tangerine, pink pepper, black coffee, leather,...</td>\n",
       "      <td>https://static.luckyscent.com/images/products/...</td>\n",
       "      <td>velvet fantasy solar fragrance citrus velvety ...</td>\n",
       "      <td>tangerine, pink pepper, black coffee, leather,...</td>\n",
       "    </tr>\n",
       "    <tr>\n",
       "      <th>4</th>\n",
       "      <td>A Blvd. Called Sunset Eau de Parfum</td>\n",
       "      <td>A Lab on Fire</td>\n",
       "      <td>There's no way A Lab On Fire could relocate to...</td>\n",
       "      <td>bergamot, almond, violet, jasmine, leather, sa...</td>\n",
       "      <td>https://static.luckyscent.com/images/products/...</td>\n",
       "      <td>there's way lab fire could relocate los angele...</td>\n",
       "      <td>bergamot, almond, violet, jasmine, leather, sa...</td>\n",
       "    </tr>\n",
       "  </tbody>\n",
       "</table>\n",
       "</div>"
      ],
      "text/plain": [
       "                                  Name          Brand  \\\n",
       "0                 Tihota Eau de Parfum         Indult   \n",
       "1                          Sola Parfum         Di Ser   \n",
       "2                       Kagiroi Parfum         Di Ser   \n",
       "3         Velvet Fantasy Eau de Parfum        Montale   \n",
       "4  A Blvd. Called Sunset Eau de Parfum  A Lab on Fire   \n",
       "\n",
       "                                         Description  \\\n",
       "0  Rapa Nui for sugar, Tihota is, quite simply, T...   \n",
       "1  A tribute to the expanse of space extending fr...   \n",
       "2  An aromatic ode to the ancient beauty of Japan...   \n",
       "3  Velvet Fantasy is a solar fragrance where citr...   \n",
       "4  There's no way A Lab On Fire could relocate to...   \n",
       "\n",
       "                                               Notes  \\\n",
       "0                                 vanilla bean, musk   \n",
       "1  lavender, yuzu, lemongrass, magnolia, geranium...   \n",
       "2  green yuzu, green shikuwasa, sansho seed, cori...   \n",
       "3  tangerine, pink pepper, black coffee, leather,...   \n",
       "4  bergamot, almond, violet, jasmine, leather, sa...   \n",
       "\n",
       "                                           Image URL  \\\n",
       "0  https://static.luckyscent.com/images/products/...   \n",
       "1  https://static.luckyscent.com/images/products/...   \n",
       "2  https://static.luckyscent.com/images/products/...   \n",
       "3  https://static.luckyscent.com/images/products/...   \n",
       "4  https://static.luckyscent.com/images/products/...   \n",
       "\n",
       "                                   Description_clean  \\\n",
       "0  rapa nui sugar tihota quite simply one one cal...   \n",
       "1  tribute expanse space extending sky flower fru...   \n",
       "2  aromatic ode ancient beauty japan kagiroi repr...   \n",
       "3  velvet fantasy solar fragrance citrus velvety ...   \n",
       "4  there's way lab fire could relocate los angele...   \n",
       "\n",
       "                                         Notes_clean  \n",
       "0                                 vanilla bean, musk  \n",
       "1  lavender, yuzu, lemongrass, magnolia, geranium...  \n",
       "2  green yuzu, green shikuwasa, sansho seed, cori...  \n",
       "3  tangerine, pink pepper, black coffee, leather,...  \n",
       "4  bergamot, almond, violet, jasmine, leather, sa...  "
      ]
     },
     "execution_count": 2,
     "metadata": {},
     "output_type": "execute_result"
    }
   ],
   "source": [
    "## Loading the dataset\n",
    "perfume_df = pd.read_csv('perfume_df.csv')\n",
    "perfume_df.head()"
   ]
  },
  {
   "cell_type": "markdown",
   "metadata": {},
   "source": [
    "### Scent Searcher #1\n",
    "\n",
    "Made with TF-IDF"
   ]
  },
  {
   "cell_type": "code",
   "execution_count": 3,
   "metadata": {},
   "outputs": [],
   "source": [
    "## Construct TF-IDF matrix\n",
    "tfidf = TfidfVectorizer(stop_words='english')\n",
    "database = tfidf.fit_transform(perfume_df['Notes_clean'])"
   ]
  },
  {
   "cell_type": "code",
   "execution_count": 4,
   "metadata": {},
   "outputs": [
    {
     "name": "stdout",
     "output_type": "stream",
     "text": [
      "Score: 0.6770140004392624 | Morn To Dusk Eau de Parfum\n",
      "Score: 0.5477605664857541 | Odalisque Eau de Parfum\n",
      "Score: 0.4847664720910013 | Hakka Eau de Parfum\n",
      "Score: 0.44390218130302994 | Feminin Pluriel Eau de Parfum\n",
      "Score: 0.41625519463486677 | All That Matters Eau de Parfum\n"
     ]
    }
   ],
   "source": [
    "## Function that returns recommended fragrances and scores\n",
    "def scent_search(query):\n",
    "    query_vec = tfidf.transform([query])\n",
    "    scores = query_vec.dot(database.transpose())\n",
    "    scores_array = scores.toarray()[0]\n",
    "    sorted_indices = scores_array.argsort()[::-1]\n",
    "    for position, idx in enumerate(sorted_indices[:5]):\n",
    "        print('Score:', scores_array[idx], '|', perfume_df['Name'].iloc[idx])\n",
    "\n",
    "scent_search('bergamot iris lily')"
   ]
  },
  {
   "cell_type": "code",
   "execution_count": 5,
   "metadata": {},
   "outputs": [
    {
     "data": {
      "text/html": [
       "<div>\n",
       "<style scoped>\n",
       "    .dataframe tbody tr th:only-of-type {\n",
       "        vertical-align: middle;\n",
       "    }\n",
       "\n",
       "    .dataframe tbody tr th {\n",
       "        vertical-align: top;\n",
       "    }\n",
       "\n",
       "    .dataframe thead th {\n",
       "        text-align: right;\n",
       "    }\n",
       "</style>\n",
       "<table border=\"1\" class=\"dataframe\">\n",
       "  <thead>\n",
       "    <tr style=\"text-align: right;\">\n",
       "      <th></th>\n",
       "      <th>Name</th>\n",
       "      <th>Brand</th>\n",
       "      <th>Notes</th>\n",
       "    </tr>\n",
       "  </thead>\n",
       "  <tbody>\n",
       "    <tr>\n",
       "      <th>331</th>\n",
       "      <td>Morn To Dusk Eau de Parfum</td>\n",
       "      <td>Eau d'Italie</td>\n",
       "      <td>bergamot, lily, vanilla, musk</td>\n",
       "    </tr>\n",
       "    <tr>\n",
       "      <th>2132</th>\n",
       "      <td>Odalisque Eau de Parfum</td>\n",
       "      <td>PARFUMS DE NICOLAI</td>\n",
       "      <td>lily of the valley, jasmine, iris root</td>\n",
       "    </tr>\n",
       "    <tr>\n",
       "      <th>491</th>\n",
       "      <td>Hakka Eau de Parfum</td>\n",
       "      <td>J-Scent</td>\n",
       "      <td>bergamot, mint, green leaves, jasmine, lily, i...</td>\n",
       "    </tr>\n",
       "    <tr>\n",
       "      <th>1584</th>\n",
       "      <td>Feminin Pluriel Eau de Parfum</td>\n",
       "      <td>Maison Francis Kurkdjian</td>\n",
       "      <td>iris, violet, rose, jasmine, lily-of-the-valle...</td>\n",
       "    </tr>\n",
       "    <tr>\n",
       "      <th>277</th>\n",
       "      <td>All That Matters Eau de Parfum</td>\n",
       "      <td>Anamor</td>\n",
       "      <td>musk, sandalwood, lily of the valley</td>\n",
       "    </tr>\n",
       "  </tbody>\n",
       "</table>\n",
       "</div>"
      ],
      "text/plain": [
       "                                Name                     Brand  \\\n",
       "331       Morn To Dusk Eau de Parfum              Eau d'Italie   \n",
       "2132         Odalisque Eau de Parfum        PARFUMS DE NICOLAI   \n",
       "491              Hakka Eau de Parfum                   J-Scent   \n",
       "1584   Feminin Pluriel Eau de Parfum  Maison Francis Kurkdjian   \n",
       "277   All That Matters Eau de Parfum                    Anamor   \n",
       "\n",
       "                                                  Notes  \n",
       "331                       bergamot, lily, vanilla, musk  \n",
       "2132             lily of the valley, jasmine, iris root  \n",
       "491   bergamot, mint, green leaves, jasmine, lily, i...  \n",
       "1584  iris, violet, rose, jasmine, lily-of-the-valle...  \n",
       "277                musk, sandalwood, lily of the valley  "
      ]
     },
     "execution_count": 5,
     "metadata": {},
     "output_type": "execute_result"
    }
   ],
   "source": [
    "## Function that returns recommended fragrances, brands, and notes\n",
    "def scent_search(query):\n",
    "    query_vec = tfidf.transform([query])\n",
    "    scores = query_vec.dot(database.transpose())\n",
    "    scores_array = scores.toarray()[0]\n",
    "    sorted_indices = scores_array.argsort()[::-1]\n",
    "    results = enumerate(sorted_indices[:5])\n",
    "    perfume_indices = [i[1] for i in results]\n",
    "    return perfume_df[['Name', 'Brand', 'Notes']].iloc[perfume_indices]\n",
    "\n",
    "scent_search('bergamot iris lily')"
   ]
  },
  {
   "cell_type": "markdown",
   "metadata": {},
   "source": [
    "### Scent Searcher #2\n",
    "\n",
    "Made with a Universal Sentence Encoder (USE)"
   ]
  },
  {
   "cell_type": "code",
   "execution_count": 6,
   "metadata": {},
   "outputs": [],
   "source": [
    "## Load the model\n",
    "embed = hub.load('https://tfhub.dev/google/universal-sentence-encoder/4')\n",
    "\n",
    "## Fit the model\n",
    "embeddings = embed(perfume_df['Notes_clean'])"
   ]
  },
  {
   "cell_type": "code",
   "execution_count": 7,
   "metadata": {},
   "outputs": [
    {
     "name": "stdout",
     "output_type": "stream",
     "text": [
      "Le Cri De La Lumiere Eau de Parfum\n",
      "Odalisque Eau de Parfum\n",
      "Scarlet Lily Eau de Parfum\n",
      "10 AM Accord Eau de Parfum\n",
      "Cedar Woodpecker Eau de Parfum\n",
      "Scores: 0.73321533\n",
      "Scores: 0.697061\n",
      "Scores: 0.6476709\n",
      "Scores: 0.6092781\n",
      "Scores: 0.602033\n"
     ]
    }
   ],
   "source": [
    "## Function that returns recommended fragrances and scores\n",
    "def search(query):\n",
    "    query = [query]\n",
    "    query_emb = embed(query)\n",
    "    linear_similarities = linear_kernel(query_emb, embeddings).flatten() \n",
    "    index = linear_similarities.argsort()[:-6:-1]\n",
    "    linear_similarities.sort()\n",
    "    for position, idx in enumerate(index):\n",
    "        print(perfume_df['Name'].iloc[idx])\n",
    "    for position, score in enumerate(linear_similarities[:-6:-1]):\n",
    "        print('Scores:', score)\n",
    "\n",
    "search('bergamot iris lily')"
   ]
  },
  {
   "cell_type": "code",
   "execution_count": 8,
   "metadata": {},
   "outputs": [
    {
     "data": {
      "text/html": [
       "<div>\n",
       "<style scoped>\n",
       "    .dataframe tbody tr th:only-of-type {\n",
       "        vertical-align: middle;\n",
       "    }\n",
       "\n",
       "    .dataframe tbody tr th {\n",
       "        vertical-align: top;\n",
       "    }\n",
       "\n",
       "    .dataframe thead th {\n",
       "        text-align: right;\n",
       "    }\n",
       "</style>\n",
       "<table border=\"1\" class=\"dataframe\">\n",
       "  <thead>\n",
       "    <tr style=\"text-align: right;\">\n",
       "      <th></th>\n",
       "      <th>Name</th>\n",
       "      <th>Brand</th>\n",
       "      <th>Notes</th>\n",
       "    </tr>\n",
       "  </thead>\n",
       "  <tbody>\n",
       "    <tr>\n",
       "      <th>317</th>\n",
       "      <td>Le Cri De La Lumiere Eau de Parfum</td>\n",
       "      <td>Parfum d'Empire</td>\n",
       "      <td>ambrette, rose, iris</td>\n",
       "    </tr>\n",
       "    <tr>\n",
       "      <th>2132</th>\n",
       "      <td>Odalisque Eau de Parfum</td>\n",
       "      <td>PARFUMS DE NICOLAI</td>\n",
       "      <td>lily of the valley, jasmine, iris root</td>\n",
       "    </tr>\n",
       "    <tr>\n",
       "      <th>1060</th>\n",
       "      <td>Scarlet Lily Eau de Parfum</td>\n",
       "      <td>Shay &amp; Blue</td>\n",
       "      <td>lotus blossom, scarlet ariadne lily, ylang-yla...</td>\n",
       "    </tr>\n",
       "    <tr>\n",
       "      <th>1062</th>\n",
       "      <td>10 AM Accord Eau de Parfum</td>\n",
       "      <td>Cinnamon Projects</td>\n",
       "      <td>cedar, iris, lavender, sage, vetiver</td>\n",
       "    </tr>\n",
       "    <tr>\n",
       "      <th>1158</th>\n",
       "      <td>Cedar Woodpecker Eau de Parfum</td>\n",
       "      <td>Parle Moi de Parfum</td>\n",
       "      <td>cedar, citrus, iris</td>\n",
       "    </tr>\n",
       "  </tbody>\n",
       "</table>\n",
       "</div>"
      ],
      "text/plain": [
       "                                    Name                Brand  \\\n",
       "317   Le Cri De La Lumiere Eau de Parfum      Parfum d'Empire   \n",
       "2132             Odalisque Eau de Parfum   PARFUMS DE NICOLAI   \n",
       "1060          Scarlet Lily Eau de Parfum          Shay & Blue   \n",
       "1062          10 AM Accord Eau de Parfum    Cinnamon Projects   \n",
       "1158      Cedar Woodpecker Eau de Parfum  Parle Moi de Parfum   \n",
       "\n",
       "                                                  Notes  \n",
       "317                                ambrette, rose, iris  \n",
       "2132             lily of the valley, jasmine, iris root  \n",
       "1060  lotus blossom, scarlet ariadne lily, ylang-yla...  \n",
       "1062               cedar, iris, lavender, sage, vetiver  \n",
       "1158                                cedar, citrus, iris  "
      ]
     },
     "execution_count": 8,
     "metadata": {},
     "output_type": "execute_result"
    }
   ],
   "source": [
    "## Function that returns recommended fragrances, brands, and notes\n",
    "def search(query):\n",
    "    query = [query]\n",
    "    query_emb = embed(query)\n",
    "    linear_similarities = linear_kernel(query_emb, embeddings).flatten() \n",
    "    index = linear_similarities.argsort()[:-6:-1]\n",
    "    return perfume_df[['Name', 'Brand', 'Notes']].iloc[index] \n",
    "\n",
    "search('bergamot iris lily')"
   ]
  },
  {
   "cell_type": "markdown",
   "metadata": {},
   "source": [
    "### Conclusion\n",
    "\n",
    "Although the USE model returns matches with greater scores, they're less likely to include the same notes as the query. This may be due to the USE model being optimised for lengthier pieces of text."
   ]
  }
 ],
 "metadata": {
  "kernelspec": {
   "display_name": "Python 3",
   "language": "python",
   "name": "python3"
  },
  "language_info": {
   "codemirror_mode": {
    "name": "ipython",
    "version": 3
   },
   "file_extension": ".py",
   "mimetype": "text/x-python",
   "name": "python",
   "nbconvert_exporter": "python",
   "pygments_lexer": "ipython3",
   "version": "3.11.1"
  }
 },
 "nbformat": 4,
 "nbformat_minor": 2
}
